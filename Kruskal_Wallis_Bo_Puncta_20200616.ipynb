{
 "cells": [
  {
   "cell_type": "markdown",
   "metadata": {},
   "source": [
    "# Kruskal-Wallis Test\n",
    "\n",
    "The Kruskal-Wallis Test is a nonparametric test that assesses whether there are any differences between three or more groups. This notebook follows the example given in the YouTube video by R Statistics and Research on the Kruskall-Wallist test (link: https://www.youtube.com/watch?v=Y1qeAFAV5yQ)"
   ]
  },
  {
   "cell_type": "code",
   "execution_count": 7,
   "metadata": {},
   "outputs": [
    {
     "data": {
      "text/html": [
       "<table>\n",
       "<thead><tr><th scope=col>Group</th><th scope=col>Distance_to_Edge</th></tr></thead>\n",
       "<tbody>\n",
       "\t<tr><td>ChrI-213</td><td>  0     </td></tr>\n",
       "\t<tr><td>ChrI-213</td><td>  0     </td></tr>\n",
       "\t<tr><td>ChrI-213</td><td>  0     </td></tr>\n",
       "\t<tr><td>ChrI-213</td><td> 43     </td></tr>\n",
       "\t<tr><td>ChrI-213</td><td> 47     </td></tr>\n",
       "\t<tr><td>ChrI-213</td><td> 48     </td></tr>\n",
       "\t<tr><td>ChrI-213</td><td> 51     </td></tr>\n",
       "\t<tr><td>ChrI-213</td><td> 55     </td></tr>\n",
       "\t<tr><td>ChrI-213</td><td> 56     </td></tr>\n",
       "\t<tr><td>ChrI-213</td><td> 65     </td></tr>\n",
       "\t<tr><td>ChrI-213</td><td> 65     </td></tr>\n",
       "\t<tr><td>ChrI-213</td><td> 82     </td></tr>\n",
       "\t<tr><td>ChrI-213</td><td> 84     </td></tr>\n",
       "\t<tr><td>ChrI-213</td><td> 95     </td></tr>\n",
       "\t<tr><td>ChrI-213</td><td>112     </td></tr>\n",
       "\t<tr><td>ChrI-213</td><td>115     </td></tr>\n",
       "\t<tr><td>ChrI-213</td><td>124     </td></tr>\n",
       "\t<tr><td>ChrI-213</td><td>147     </td></tr>\n",
       "\t<tr><td>ChrI-213</td><td>154     </td></tr>\n",
       "\t<tr><td>ChrI-213</td><td>161     </td></tr>\n",
       "\t<tr><td>ChrI-213</td><td>164     </td></tr>\n",
       "\t<tr><td>ChrI-213</td><td>167     </td></tr>\n",
       "\t<tr><td>ChrI-213</td><td>177     </td></tr>\n",
       "\t<tr><td>ChrI-213</td><td>210     </td></tr>\n",
       "\t<tr><td>ChrI-213</td><td>221     </td></tr>\n",
       "\t<tr><td>ChrI-213</td><td>280     </td></tr>\n",
       "\t<tr><td>ChrI-213</td><td>291     </td></tr>\n",
       "\t<tr><td>ChrI-213</td><td>301     </td></tr>\n",
       "\t<tr><td>ChrI-213</td><td>306     </td></tr>\n",
       "\t<tr><td>ChrI-213</td><td>339     </td></tr>\n",
       "\t<tr><td>...</td><td>...</td></tr>\n",
       "\t<tr><td>ChrX-227;male</td><td>1145         </td></tr>\n",
       "\t<tr><td>ChrX-227;male</td><td>1148         </td></tr>\n",
       "\t<tr><td>ChrX-227;male</td><td>1164         </td></tr>\n",
       "\t<tr><td>ChrX-227;male</td><td>1176         </td></tr>\n",
       "\t<tr><td>ChrX-227;male</td><td>1222         </td></tr>\n",
       "\t<tr><td>ChrX-227;male</td><td>1252         </td></tr>\n",
       "\t<tr><td>ChrX-227;male</td><td>1254         </td></tr>\n",
       "\t<tr><td>ChrX-227;male</td><td>1267         </td></tr>\n",
       "\t<tr><td>ChrX-227;male</td><td>1269         </td></tr>\n",
       "\t<tr><td>ChrX-227;male</td><td>1272         </td></tr>\n",
       "\t<tr><td>ChrX-227;male</td><td>1274         </td></tr>\n",
       "\t<tr><td>ChrX-227;male</td><td>1294         </td></tr>\n",
       "\t<tr><td>ChrX-227;male</td><td>1294         </td></tr>\n",
       "\t<tr><td>ChrX-227;male</td><td>1311         </td></tr>\n",
       "\t<tr><td>ChrX-227;male</td><td>1334         </td></tr>\n",
       "\t<tr><td>ChrX-227;male</td><td>1340         </td></tr>\n",
       "\t<tr><td>ChrX-227;male</td><td>1341         </td></tr>\n",
       "\t<tr><td>ChrX-227;male</td><td>1343         </td></tr>\n",
       "\t<tr><td>ChrX-227;male</td><td>1360         </td></tr>\n",
       "\t<tr><td>ChrX-227;male</td><td>1387         </td></tr>\n",
       "\t<tr><td>ChrX-227;male</td><td>1395         </td></tr>\n",
       "\t<tr><td>ChrX-227;male</td><td>1396         </td></tr>\n",
       "\t<tr><td>ChrX-227;male</td><td>1402         </td></tr>\n",
       "\t<tr><td>ChrX-227;male</td><td>1414         </td></tr>\n",
       "\t<tr><td>ChrX-227;male</td><td>1477         </td></tr>\n",
       "\t<tr><td>ChrX-227;male</td><td>1520         </td></tr>\n",
       "\t<tr><td>ChrX-227;male</td><td>1535         </td></tr>\n",
       "\t<tr><td>ChrX-227;male</td><td>1551         </td></tr>\n",
       "\t<tr><td>ChrX-227;male</td><td>1556         </td></tr>\n",
       "\t<tr><td>ChrX-227;male</td><td>1619         </td></tr>\n",
       "</tbody>\n",
       "</table>\n"
      ],
      "text/latex": [
       "\\begin{tabular}{r|ll}\n",
       " Group & Distance\\_to\\_Edge\\\\\n",
       "\\hline\n",
       "\t ChrI-213 &   0     \\\\\n",
       "\t ChrI-213 &   0     \\\\\n",
       "\t ChrI-213 &   0     \\\\\n",
       "\t ChrI-213 &  43     \\\\\n",
       "\t ChrI-213 &  47     \\\\\n",
       "\t ChrI-213 &  48     \\\\\n",
       "\t ChrI-213 &  51     \\\\\n",
       "\t ChrI-213 &  55     \\\\\n",
       "\t ChrI-213 &  56     \\\\\n",
       "\t ChrI-213 &  65     \\\\\n",
       "\t ChrI-213 &  65     \\\\\n",
       "\t ChrI-213 &  82     \\\\\n",
       "\t ChrI-213 &  84     \\\\\n",
       "\t ChrI-213 &  95     \\\\\n",
       "\t ChrI-213 & 112     \\\\\n",
       "\t ChrI-213 & 115     \\\\\n",
       "\t ChrI-213 & 124     \\\\\n",
       "\t ChrI-213 & 147     \\\\\n",
       "\t ChrI-213 & 154     \\\\\n",
       "\t ChrI-213 & 161     \\\\\n",
       "\t ChrI-213 & 164     \\\\\n",
       "\t ChrI-213 & 167     \\\\\n",
       "\t ChrI-213 & 177     \\\\\n",
       "\t ChrI-213 & 210     \\\\\n",
       "\t ChrI-213 & 221     \\\\\n",
       "\t ChrI-213 & 280     \\\\\n",
       "\t ChrI-213 & 291     \\\\\n",
       "\t ChrI-213 & 301     \\\\\n",
       "\t ChrI-213 & 306     \\\\\n",
       "\t ChrI-213 & 339     \\\\\n",
       "\t ... & ...\\\\\n",
       "\t ChrX-227;male & 1145         \\\\\n",
       "\t ChrX-227;male & 1148         \\\\\n",
       "\t ChrX-227;male & 1164         \\\\\n",
       "\t ChrX-227;male & 1176         \\\\\n",
       "\t ChrX-227;male & 1222         \\\\\n",
       "\t ChrX-227;male & 1252         \\\\\n",
       "\t ChrX-227;male & 1254         \\\\\n",
       "\t ChrX-227;male & 1267         \\\\\n",
       "\t ChrX-227;male & 1269         \\\\\n",
       "\t ChrX-227;male & 1272         \\\\\n",
       "\t ChrX-227;male & 1274         \\\\\n",
       "\t ChrX-227;male & 1294         \\\\\n",
       "\t ChrX-227;male & 1294         \\\\\n",
       "\t ChrX-227;male & 1311         \\\\\n",
       "\t ChrX-227;male & 1334         \\\\\n",
       "\t ChrX-227;male & 1340         \\\\\n",
       "\t ChrX-227;male & 1341         \\\\\n",
       "\t ChrX-227;male & 1343         \\\\\n",
       "\t ChrX-227;male & 1360         \\\\\n",
       "\t ChrX-227;male & 1387         \\\\\n",
       "\t ChrX-227;male & 1395         \\\\\n",
       "\t ChrX-227;male & 1396         \\\\\n",
       "\t ChrX-227;male & 1402         \\\\\n",
       "\t ChrX-227;male & 1414         \\\\\n",
       "\t ChrX-227;male & 1477         \\\\\n",
       "\t ChrX-227;male & 1520         \\\\\n",
       "\t ChrX-227;male & 1535         \\\\\n",
       "\t ChrX-227;male & 1551         \\\\\n",
       "\t ChrX-227;male & 1556         \\\\\n",
       "\t ChrX-227;male & 1619         \\\\\n",
       "\\end{tabular}\n"
      ],
      "text/markdown": [
       "\n",
       "| Group | Distance_to_Edge |\n",
       "|---|---|\n",
       "| ChrI-213 |   0      |\n",
       "| ChrI-213 |   0      |\n",
       "| ChrI-213 |   0      |\n",
       "| ChrI-213 |  43      |\n",
       "| ChrI-213 |  47      |\n",
       "| ChrI-213 |  48      |\n",
       "| ChrI-213 |  51      |\n",
       "| ChrI-213 |  55      |\n",
       "| ChrI-213 |  56      |\n",
       "| ChrI-213 |  65      |\n",
       "| ChrI-213 |  65      |\n",
       "| ChrI-213 |  82      |\n",
       "| ChrI-213 |  84      |\n",
       "| ChrI-213 |  95      |\n",
       "| ChrI-213 | 112      |\n",
       "| ChrI-213 | 115      |\n",
       "| ChrI-213 | 124      |\n",
       "| ChrI-213 | 147      |\n",
       "| ChrI-213 | 154      |\n",
       "| ChrI-213 | 161      |\n",
       "| ChrI-213 | 164      |\n",
       "| ChrI-213 | 167      |\n",
       "| ChrI-213 | 177      |\n",
       "| ChrI-213 | 210      |\n",
       "| ChrI-213 | 221      |\n",
       "| ChrI-213 | 280      |\n",
       "| ChrI-213 | 291      |\n",
       "| ChrI-213 | 301      |\n",
       "| ChrI-213 | 306      |\n",
       "| ChrI-213 | 339      |\n",
       "| ... | ... |\n",
       "| ChrX-227;male | 1145          |\n",
       "| ChrX-227;male | 1148          |\n",
       "| ChrX-227;male | 1164          |\n",
       "| ChrX-227;male | 1176          |\n",
       "| ChrX-227;male | 1222          |\n",
       "| ChrX-227;male | 1252          |\n",
       "| ChrX-227;male | 1254          |\n",
       "| ChrX-227;male | 1267          |\n",
       "| ChrX-227;male | 1269          |\n",
       "| ChrX-227;male | 1272          |\n",
       "| ChrX-227;male | 1274          |\n",
       "| ChrX-227;male | 1294          |\n",
       "| ChrX-227;male | 1294          |\n",
       "| ChrX-227;male | 1311          |\n",
       "| ChrX-227;male | 1334          |\n",
       "| ChrX-227;male | 1340          |\n",
       "| ChrX-227;male | 1341          |\n",
       "| ChrX-227;male | 1343          |\n",
       "| ChrX-227;male | 1360          |\n",
       "| ChrX-227;male | 1387          |\n",
       "| ChrX-227;male | 1395          |\n",
       "| ChrX-227;male | 1396          |\n",
       "| ChrX-227;male | 1402          |\n",
       "| ChrX-227;male | 1414          |\n",
       "| ChrX-227;male | 1477          |\n",
       "| ChrX-227;male | 1520          |\n",
       "| ChrX-227;male | 1535          |\n",
       "| ChrX-227;male | 1551          |\n",
       "| ChrX-227;male | 1556          |\n",
       "| ChrX-227;male | 1619          |\n",
       "\n"
      ],
      "text/plain": [
       "    Group         Distance_to_Edge\n",
       "1   ChrI-213        0             \n",
       "2   ChrI-213        0             \n",
       "3   ChrI-213        0             \n",
       "4   ChrI-213       43             \n",
       "5   ChrI-213       47             \n",
       "6   ChrI-213       48             \n",
       "7   ChrI-213       51             \n",
       "8   ChrI-213       55             \n",
       "9   ChrI-213       56             \n",
       "10  ChrI-213       65             \n",
       "11  ChrI-213       65             \n",
       "12  ChrI-213       82             \n",
       "13  ChrI-213       84             \n",
       "14  ChrI-213       95             \n",
       "15  ChrI-213      112             \n",
       "16  ChrI-213      115             \n",
       "17  ChrI-213      124             \n",
       "18  ChrI-213      147             \n",
       "19  ChrI-213      154             \n",
       "20  ChrI-213      161             \n",
       "21  ChrI-213      164             \n",
       "22  ChrI-213      167             \n",
       "23  ChrI-213      177             \n",
       "24  ChrI-213      210             \n",
       "25  ChrI-213      221             \n",
       "26  ChrI-213      280             \n",
       "27  ChrI-213      291             \n",
       "28  ChrI-213      301             \n",
       "29  ChrI-213      306             \n",
       "30  ChrI-213      339             \n",
       "... ...           ...             \n",
       "157 ChrX-227;male 1145            \n",
       "158 ChrX-227;male 1148            \n",
       "159 ChrX-227;male 1164            \n",
       "160 ChrX-227;male 1176            \n",
       "161 ChrX-227;male 1222            \n",
       "162 ChrX-227;male 1252            \n",
       "163 ChrX-227;male 1254            \n",
       "164 ChrX-227;male 1267            \n",
       "165 ChrX-227;male 1269            \n",
       "166 ChrX-227;male 1272            \n",
       "167 ChrX-227;male 1274            \n",
       "168 ChrX-227;male 1294            \n",
       "169 ChrX-227;male 1294            \n",
       "170 ChrX-227;male 1311            \n",
       "171 ChrX-227;male 1334            \n",
       "172 ChrX-227;male 1340            \n",
       "173 ChrX-227;male 1341            \n",
       "174 ChrX-227;male 1343            \n",
       "175 ChrX-227;male 1360            \n",
       "176 ChrX-227;male 1387            \n",
       "177 ChrX-227;male 1395            \n",
       "178 ChrX-227;male 1396            \n",
       "179 ChrX-227;male 1402            \n",
       "180 ChrX-227;male 1414            \n",
       "181 ChrX-227;male 1477            \n",
       "182 ChrX-227;male 1520            \n",
       "183 ChrX-227;male 1535            \n",
       "184 ChrX-227;male 1551            \n",
       "185 ChrX-227;male 1556            \n",
       "186 ChrX-227;male 1619            "
      ]
     },
     "metadata": {},
     "output_type": "display_data"
    },
    {
     "data": {
      "text/html": [
       "'factor'"
      ],
      "text/latex": [
       "'factor'"
      ],
      "text/markdown": [
       "'factor'"
      ],
      "text/plain": [
       "[1] \"factor\""
      ]
     },
     "metadata": {},
     "output_type": "display_data"
    }
   ],
   "source": [
    "# obtain distance_to_edge file\n",
    "\n",
    "data <- read.csv(file = \"distance_to_edge_20200616.csv\")\n",
    "data\n",
    "\n",
    "# check that Groups are classified as factors\n",
    "class(data$Group)"
   ]
  },
  {
   "cell_type": "code",
   "execution_count": 8,
   "metadata": {},
   "outputs": [],
   "source": [
    "# separate into groups\n",
    "\n",
    "# ChrI-213 = Group 1\n",
    "Group1 <- subset(data, Group == \"ChrI-213\")\n",
    "\n",
    "# ChrX-227 = Group 2\n",
    "Group2 <- subset(data, Group == \"ChrX-227\")\n",
    "\n",
    "# ChrX-227;male = Group 3\n",
    "Group3 <- subset(data, Group == \"ChrX-227;male\")"
   ]
  },
  {
   "cell_type": "code",
   "execution_count": 10,
   "metadata": {},
   "outputs": [
    {
     "data": {
      "text/plain": [
       "\n",
       "\tBartlett test of homogeneity of variances\n",
       "\n",
       "data:  Distance_to_Edge by Group\n",
       "Bartlett's K-squared = 2.4601, df = 2, p-value = 0.2923\n"
      ]
     },
     "metadata": {},
     "output_type": "display_data"
    }
   ],
   "source": [
    "# test homogeneity of variances using Bartlett test; if p value is greater than 0.05, variances are considered equal\n",
    "\n",
    "bartlett.test(Distance_to_Edge ~ Group, data = data)"
   ]
  },
  {
   "cell_type": "code",
   "execution_count": 14,
   "metadata": {},
   "outputs": [
    {
     "data": {
      "text/plain": [
       "\n",
       "\tKruskal-Wallis rank sum test\n",
       "\n",
       "data:  Distance_to_Edge by Group\n",
       "Kruskal-Wallis chi-squared = 83.38, df = 2, p-value < 2.2e-16\n"
      ]
     },
     "metadata": {},
     "output_type": "display_data"
    }
   ],
   "source": [
    "# run the Kruskal-Wallis test whether the chromosomes' distances to the nuclear periphery \n",
    "# come from the same distribution\n",
    "\n",
    "kruskal.test(Distance_to_Edge ~ Group, data = data)"
   ]
  },
  {
   "cell_type": "markdown",
   "metadata": {},
   "source": [
    "Data above suggest that at least one of the groups is different"
   ]
  },
  {
   "cell_type": "code",
   "execution_count": 15,
   "metadata": {},
   "outputs": [
    {
     "name": "stderr",
     "output_type": "stream",
     "text": [
      "also installing the dependencies ‘zip’, ‘SparseM’, ‘MatrixModels’, ‘sp’, ‘openxlsx’, ‘minqa’, ‘nloptr’, ‘statmod’, ‘RcppEigen’, ‘carData’, ‘abind’, ‘pbkrtest’, ‘quantreg’, ‘maptools’, ‘rio’, ‘lme4’, ‘car’, ‘dunn.test’, ‘lmtest’, ‘plotrix’, ‘sciplot’\n",
      "\n",
      "Updating HTML index of packages in '.Library'\n",
      "Making 'packages.html' ... done\n",
      "## FSA v0.8.30. See citation('FSA') if used in publication.\n",
      "## Run fishR() for related website and fishR('IFAR') for related book.\n"
     ]
    }
   ],
   "source": [
    "# Run a post-hoc test to determine which group(s) is different - Dunn test for multiple comparisons with Bonferroni\n",
    "# correction\n",
    "\n",
    "install.packages(\"FSA\")\n",
    "library(FSA)"
   ]
  },
  {
   "cell_type": "code",
   "execution_count": 16,
   "metadata": {},
   "outputs": [
    {
     "name": "stderr",
     "output_type": "stream",
     "text": [
      "Dunn (1964) Kruskal-Wallis multiple comparison\n",
      "  p-values adjusted with the Bonferroni method.\n",
      "\n"
     ]
    },
    {
     "data": {
      "text/plain": [
       "                Comparison         Z      P.unadj        P.adj\n",
       "1      ChrI-213 - ChrX-227 -6.207699 5.376600e-10 1.612980e-09\n",
       "2 ChrI-213 - ChrX-227;male -8.902841 5.443526e-19 1.633058e-18\n",
       "3 ChrX-227 - ChrX-227;male -2.816248 4.858819e-03 1.457646e-02"
      ]
     },
     "metadata": {},
     "output_type": "display_data"
    }
   ],
   "source": [
    "# run Dunn test\n",
    "\n",
    "dunnTest(Distance_to_Edge ~ Group, data = data, method=\"bonferroni\")"
   ]
  },
  {
   "cell_type": "code",
   "execution_count": 17,
   "metadata": {},
   "outputs": [
    {
     "name": "stderr",
     "output_type": "stream",
     "text": [
      "also installing the dependencies ‘desc’, ‘pkgbuild’, ‘rprojroot’, ‘pkgload’, ‘praise’, ‘rlang’, ‘testthat’, ‘isoband’\n",
      "\n",
      "Updating HTML index of packages in '.Library'\n",
      "Making 'packages.html' ... done\n"
     ]
    }
   ],
   "source": [
    "# visualize the data\n",
    "\n",
    "install.packages(\"ggplot2\")\n",
    "library(\"ggplot2\")"
   ]
  },
  {
   "cell_type": "code",
   "execution_count": 19,
   "metadata": {},
   "outputs": [
    {
     "data": {
      "image/png": "[encoded data removed]",
      "text/plain": [
       "plot without title"
      ]
     },
     "metadata": {},
     "output_type": "display_data"
    }
   ],
   "source": [
    "ggplot(data, aes(x = Group, y = Distance_to_Edge)) +\n",
    "  geom_boxplot(fill = \"grey80\", colour = \"black\") +\n",
    "  scale_x_discrete() + xlab(\"Chromosome\") +\n",
    "  ylab(\"Distance to Edge (nm)\")"
   ]
  },
  {
   "cell_type": "code",
   "execution_count": null,
   "metadata": {},
   "outputs": [],
   "source": []
  }
 ],
 "metadata": {
  "kernelspec": {
   "display_name": "R",
   "language": "R",
   "name": "ir"
  },
  "language_info": {
   "codemirror_mode": "r",
   "file_extension": ".r",
   "mimetype": "text/x-r-source",
   "name": "R",
   "pygments_lexer": "r",
   "version": "3.6.1"
  }
 },
 "nbformat": 4,
 "nbformat_minor": 4
}
