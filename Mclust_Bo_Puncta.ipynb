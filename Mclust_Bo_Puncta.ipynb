{
 "cells": [
  {
   "cell_type": "markdown",
   "metadata": {},
   "source": [
    "# Figure 4 Statistical Analysis\n",
    "\n",
    "This notebook performs Mclust analyses to determine the distribution of each punctum's distance to the nuclear periphery for a given tagged chromosome, including whether their distribution is normal or unequal."
   ]
  },
  {
   "cell_type": "code",
   "execution_count": 22,
   "metadata": {},
   "outputs": [
    {
     "name": "stderr",
     "output_type": "stream",
     "text": [
      "Updating HTML index of packages in '.Library'\n",
      "Making 'packages.html' ... done\n"
     ]
    }
   ],
   "source": [
    "library(knitr)\n",
    "install.packages(\"mclust\")"
   ]
  },
  {
   "cell_type": "code",
   "execution_count": 23,
   "metadata": {},
   "outputs": [
    {
     "name": "stderr",
     "output_type": "stream",
     "text": [
      "Package 'mclust' version 5.4.6\n",
      "Type 'citation(\"mclust\")' for citing this R package in publications.\n"
     ]
    }
   ],
   "source": [
    "library(mclust)"
   ]
  },
  {
   "cell_type": "code",
   "execution_count": 56,
   "metadata": {},
   "outputs": [
    {
     "name": "stderr",
     "output_type": "stream",
     "text": [
      "also installing the dependency ‘modeltools’\n",
      "\n",
      "Updating HTML index of packages in '.Library'\n",
      "Making 'packages.html' ... done\n"
     ]
    }
   ],
   "source": [
    "install.packages(\"flexmix\")"
   ]
  },
  {
   "cell_type": "code",
   "execution_count": 38,
   "metadata": {},
   "outputs": [],
   "source": [
    "# obtain csv files:\n",
    "\n",
    "files <- list.files(path = 'distance_to_edge', full.names = TRUE)"
   ]
  },
  {
   "cell_type": "code",
   "execution_count": 53,
   "metadata": {},
   "outputs": [
    {
     "name": "stdout",
     "output_type": "stream",
     "text": [
      "[1] \"distance_to_edge/ChrI-213.csv\"\n",
      "---------------------------------------------------- \n",
      "Gaussian finite mixture model fitted by EM algorithm \n",
      "---------------------------------------------------- \n",
      "\n",
      "Mclust V (univariate, unequal variance) model with 3 components: \n",
      "\n",
      " log-likelihood  n df       BIC       ICL\n",
      "      -429.7683 62  8 -892.5536 -898.4339\n",
      "\n",
      "Clustering table:\n",
      " 1  2  3 \n",
      "25 24 13 \n",
      "[1] \"distance_to_edge/ChrX-227.csv\"\n",
      "---------------------------------------------------- \n",
      "Gaussian finite mixture model fitted by EM algorithm \n",
      "---------------------------------------------------- \n",
      "\n",
      "Mclust X (univariate normal) model with 1 component: \n",
      "\n",
      " log-likelihood  n df       BIC       ICL\n",
      "      -461.2557 64  2 -930.8292 -930.8292\n",
      "\n",
      "Clustering table:\n",
      " 1 \n",
      "64 \n",
      "[1] \"distance_to_edge/ChrX-227_male.csv\"\n",
      "---------------------------------------------------- \n",
      "Gaussian finite mixture model fitted by EM algorithm \n",
      "---------------------------------------------------- \n",
      "\n",
      "Mclust X (univariate normal) model with 1 component: \n",
      "\n",
      " log-likelihood  n df      BIC      ICL\n",
      "      -423.9932 60  2 -856.175 -856.175\n",
      "\n",
      "Clustering table:\n",
      " 1 \n",
      "60 \n"
     ]
    }
   ],
   "source": [
    "# perform mclust analyses\n",
    "\n",
    "mclust_summaries <- function(files) {\n",
    "    for (filename in files) {\n",
    "        data <- read.csv(file = filename)\n",
    "        result <- Mclust(data)\n",
    "        print(filename)\n",
    "        print(summary(result))\n",
    "    }\n",
    "}\n",
    "     \n",
    "mclust_summaries(files)"
   ]
  }
 ],
 "metadata": {
  "kernelspec": {
   "display_name": "R",
   "language": "R",
   "name": "ir"
  },
  "language_info": {
   "codemirror_mode": "r",
   "file_extension": ".r",
   "mimetype": "text/x-r-source",
   "name": "R",
   "pygments_lexer": "r",
   "version": "3.6.1"
  }
 },
 "nbformat": 4,
 "nbformat_minor": 4
}
