{
 "cells": [
  {
   "cell_type": "code",
   "execution_count": 15,
   "metadata": {},
   "outputs": [],
   "source": [
    "# obtain files containing areas for ChrI and ChrX\n",
    "\n",
    "chrI <- read.csv(file = \"ChrI circle summary.csv\")\n",
    "chrX <- read.csv(file = \"ChrX circle summary.csv\")"
   ]
  },
  {
   "cell_type": "code",
   "execution_count": 11,
   "metadata": {},
   "outputs": [],
   "source": [
    "# obtain areas as numeric values for each Chr\n",
    "\n",
    "chrI_numeric <- as.numeric(chrI$area..μm.2)\n",
    "chrX_numeric <- as.numeric(chrX$area..μm.2)"
   ]
  },
  {
   "cell_type": "code",
   "execution_count": 14,
   "metadata": {},
   "outputs": [
    {
     "data": {
      "text/plain": [
       "\n",
       "\tWilcoxon rank sum test\n",
       "\n",
       "data:  chrI_numeric and chrX_numeric\n",
       "W = 94, p-value = 9.97e-05\n",
       "alternative hypothesis: true location shift is not equal to 0\n"
      ]
     },
     "metadata": {},
     "output_type": "display_data"
    }
   ],
   "source": [
    "# run the Wilcoxon rank sum test to assess whether areas occupied by ChrI and ChrX puncta are different\n",
    "\n",
    "wilcox.test(chrI_numeric, chrX_numeric)"
   ]
  }
 ],
 "metadata": {
  "kernelspec": {
   "display_name": "R",
   "language": "R",
   "name": "ir"
  },
  "language_info": {
   "codemirror_mode": "r",
   "file_extension": ".r",
   "mimetype": "text/x-r-source",
   "name": "R",
   "pygments_lexer": "r",
   "version": "3.6.1"
  }
 },
 "nbformat": 4,
 "nbformat_minor": 4
}
