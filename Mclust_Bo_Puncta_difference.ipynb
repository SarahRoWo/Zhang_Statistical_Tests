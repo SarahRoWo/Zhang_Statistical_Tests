{
 "cells": [
  {
   "cell_type": "markdown",
   "metadata": {},
   "source": [
    "# Figure 4 Statistical Analysis\n",
    "\n",
    "This notebook performs Mclust analyses to determine the distribution of each puncta pair's distance to one another for a given tagged chromosome, including whether their distribution is normal or unequal."
   ]
  },
  {
   "cell_type": "code",
   "execution_count": 1,
   "metadata": {},
   "outputs": [
    {
     "name": "stderr",
     "output_type": "stream",
     "text": [
      "Updating HTML index of packages in '.Library'\n",
      "Making 'packages.html' ... done\n"
     ]
    }
   ],
   "source": [
    "library(knitr)\n",
    "install.packages(\"mclust\")"
   ]
  },
  {
   "cell_type": "code",
   "execution_count": 2,
   "metadata": {},
   "outputs": [
    {
     "name": "stderr",
     "output_type": "stream",
     "text": [
      "Package 'mclust' version 5.4.6\n",
      "Type 'citation(\"mclust\")' for citing this R package in publications.\n"
     ]
    }
   ],
   "source": [
    "library(mclust)"
   ]
  },
  {
   "cell_type": "code",
   "execution_count": 3,
   "metadata": {},
   "outputs": [
    {
     "name": "stderr",
     "output_type": "stream",
     "text": [
      "Updating HTML index of packages in '.Library'\n",
      "Making 'packages.html' ... done\n"
     ]
    }
   ],
   "source": [
    "install.packages(\"flexmix\")"
   ]
  },
  {
   "cell_type": "code",
   "execution_count": 5,
   "metadata": {},
   "outputs": [],
   "source": [
    "# obtain csv files:\n",
    "\n",
    "files <- list.files(path = 'difference', full.names = TRUE)"
   ]
  },
  {
   "cell_type": "code",
   "execution_count": 6,
   "metadata": {},
   "outputs": [
    {
     "name": "stdout",
     "output_type": "stream",
     "text": [
      "[1] \"difference/ChrI_difference.csv\"\n",
      "---------------------------------------------------- \n",
      "Gaussian finite mixture model fitted by EM algorithm \n",
      "---------------------------------------------------- \n",
      "\n",
      "Mclust E (univariate, equal variance) model with 2 components: \n",
      "\n",
      " log-likelihood  n df       BIC       ICL\n",
      "      -191.1645 27  4 -395.5123 -397.9585\n",
      "\n",
      "Clustering table:\n",
      " 1  2 \n",
      "21  6 \n",
      "[1] \"difference/ChrX_difference.csv\"\n",
      "---------------------------------------------------- \n",
      "Gaussian finite mixture model fitted by EM algorithm \n",
      "---------------------------------------------------- \n",
      "\n",
      "Mclust X (univariate normal) model with 1 component: \n",
      "\n",
      " log-likelihood  n df       BIC       ICL\n",
      "      -184.0038 26  2 -374.5237 -374.5237\n",
      "\n",
      "Clustering table:\n",
      " 1 \n",
      "26 \n"
     ]
    }
   ],
   "source": [
    "# perform mclust analyses\n",
    "\n",
    "mclust_summaries <- function(files) {\n",
    "    for (filename in files) {\n",
    "        data <- read.csv(file = filename)\n",
    "        result <- Mclust(data)\n",
    "        print(filename)\n",
    "        print(summary(result))\n",
    "    }\n",
    "}\n",
    "     \n",
    "mclust_summaries(files)"
   ]
  },
  {
   "cell_type": "code",
   "execution_count": null,
   "metadata": {},
   "outputs": [],
   "source": []
  }
 ],
 "metadata": {
  "kernelspec": {
   "display_name": "R",
   "language": "R",
   "name": "ir"
  },
  "language_info": {
   "codemirror_mode": "r",
   "file_extension": ".r",
   "mimetype": "text/x-r-source",
   "name": "R",
   "pygments_lexer": "r",
   "version": "3.6.1"
  }
 },
 "nbformat": 4,
 "nbformat_minor": 4
}
